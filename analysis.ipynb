{
 "cells": [
  {
   "cell_type": "code",
   "execution_count": 15,
   "metadata": {
    "collapsed": true
   },
   "outputs": [],
   "source": [
    "import glob\n",
    "\n",
    "import numpy as np\n",
    "import pandas\n",
    "from pandas.core.window.indexers import BaseIndexer"
   ]
  },
  {
   "cell_type": "code",
   "execution_count": 16,
   "outputs": [],
   "source": [
    "\n",
    "class CustomIndexer(BaseIndexer):\n",
    "    def get_window_bounds(self, num_values=0, min_periods=None, center=None, closed=None):\n",
    "        end = np.arange(0, num_values, dtype=\"int64\")\n",
    "        end += 4\n",
    "        start = end - 3\n",
    "\n",
    "        end = np.clip(end, 0, num_values)\n",
    "        start = np.clip(start, 0, num_values)\n",
    "\n",
    "        return start, end\n",
    "\n",
    "\n",
    "def concat_rows(df, n):\n",
    "    new_cols = [\n",
    "        f\"{col}{idx}\"\n",
    "        for idx in range(1, n + 1)\n",
    "        for col in df.columns\n",
    "    ]\n",
    "    n_cols = len(df.columns)\n",
    "    new_df = pandas.DataFrame(\n",
    "        df.values.reshape([-1, n_cols * n]),\n",
    "        columns=new_cols\n",
    "    )\n",
    "    return new_df"
   ],
   "metadata": {
    "collapsed": false,
    "pycharm": {
     "name": "#%%\n"
    }
   }
  },
  {
   "cell_type": "code",
   "execution_count": null,
   "outputs": [],
   "source": [
    "#filename = \"data/2021_LoL_esports_match_data_from_OraclesElixir_20210515.csv\"\n",
    "\n",
    "\n",
    "path = r'C:\\Users\\duncan\\PycharmProjects\\leaguepredict\\data'  # use your path\n",
    "all_files = glob.glob(path + \"/*.csv\")\n",
    "\n",
    "li = []\n",
    "\n",
    "for filename in all_files:\n",
    "    df = pandas.read_csv(filename, index_col=None, header=0)\n",
    "    li.append(df)\n",
    "\n",
    "data = pandas.concat(li, axis=0, ignore_index=True)\n",
    "\n",
    "#data = pandas.read_csv(filename)"
   ],
   "metadata": {
    "collapsed": false,
    "pycharm": {
     "name": "#%%\n"
    }
   }
  },
  {
   "cell_type": "code",
   "execution_count": 18,
   "outputs": [],
   "source": [
    "team_columns = [\"date\", \"actual_result\", \"playerid\", \"gameid\", \"team\", \"gamelength\", \"result\", \"dragons\", \"barons\",\n",
    "                \"riftheralds\", \"towers\"]\n",
    "player_columns = [\"date\", \"player\", \"gameid\", \"kills\", \"deaths\", \"assists\", \"dpm\", \"damageshare\",\n",
    "                  \"damagetakenperminute\", \"wpm\",\n",
    "                  \"vspm\", \"earned gpm\", \"cspm\", \"csat10\", \"goldat10\", \"killsat10\", \"deathsat10\", \"assistsat10\",\n",
    "                  \"csat15\", \"goldat15\", \"killsat15\", \"deathsat15\", \"assistsat15\"]\n"
   ],
   "metadata": {
    "collapsed": false,
    "pycharm": {
     "name": "#%%\n"
    }
   }
  },
  {
   "cell_type": "code",
   "execution_count": 19,
   "outputs": [],
   "source": [
    "data = data.sort_values(by=[\"date\", \"playerid\"], ascending=[0, 1])\n",
    "data = data.reset_index(drop=True)\n",
    "data[\"actual_result\"] = data[\"result\"]"
   ],
   "metadata": {
    "collapsed": false,
    "pycharm": {
     "name": "#%%\n"
    }
   }
  },
  {
   "cell_type": "code",
   "execution_count": 20,
   "outputs": [],
   "source": [
    "\n",
    "\n",
    "indexer = CustomIndexer(window_size=1)\n",
    "\n",
    "player_data = (\n",
    "    data\n",
    "        .filter(player_columns)\n",
    "        .groupby(pandas.Grouper(key=\"player\"))\n",
    "        .rolling(window=indexer, min_periods=1, on=\"gameid\")\n",
    "        .mean()\n",
    "        .reset_index()\n",
    "        .rename(columns={\"level_1\": \"id\"})\n",
    "        .sort_values(by=\"id\")\n",
    "        .reset_index()\n",
    "        .drop(columns=[\"index\", \"player\", \"id\", \"gameid\"])\n",
    ")\n",
    "\n"
   ],
   "metadata": {
    "collapsed": false,
    "pycharm": {
     "name": "#%%\n"
    }
   }
  },
  {
   "cell_type": "code",
   "execution_count": 21,
   "outputs": [],
   "source": [
    "team_data = (\n",
    "    data\n",
    "        .query(\"playerid > 10\")\n",
    "        .filter(team_columns)\n",
    "        .groupby(pandas.Grouper(key=\"team\"))\n",
    "        .rolling(window=indexer, min_periods=1, on=\"actual_result\")\n",
    "        .mean()\n",
    "        .reset_index()\n",
    "        .rename(columns={\"level_1\": \"id\"})\n",
    "        .sort_values(by=\"id\")\n",
    "        .reset_index()\n",
    "        .drop(columns=[\"index\", \"playerid\", \"id\"])\n",
    ")"
   ],
   "metadata": {
    "collapsed": false,
    "pycharm": {
     "name": "#%%\n"
    }
   }
  },
  {
   "cell_type": "code",
   "execution_count": 22,
   "outputs": [],
   "source": [
    "game_data_player = concat_rows(player_data, 10)\n",
    "game_data_team = concat_rows(team_data, 2)\n",
    "game_data_team.drop(columns=[\"actual_result2\", \"team1\", \"team2\"], inplace=True)\n",
    "\n",
    "game_data = (\n",
    "    pandas\n",
    "        .concat([game_data_team, game_data_player], axis=1)\n",
    "        .dropna()\n",
    ")\n",
    "\n",
    "game_result = game_data[\"actual_result1\"]\n",
    "game_data.drop(columns=[\"actual_result1\"], inplace=True)\n"
   ],
   "metadata": {
    "collapsed": false,
    "pycharm": {
     "name": "#%%\n"
    }
   }
  },
  {
   "cell_type": "code",
   "execution_count": 99,
   "outputs": [
    {
     "name": "stdout",
     "output_type": "stream",
     "text": [
      "0        1\n",
      "1        0\n",
      "2        0\n",
      "3        1\n",
      "4        0\n",
      "        ..\n",
      "44206    0\n",
      "44207    1\n",
      "44208    1\n",
      "44209    1\n",
      "44210    0\n",
      "Name: actual_result1, Length: 35645, dtype: object\n",
      "0.6576082405158697\n",
      "0.65323471903426\n",
      "\n"
     ]
    }
   ],
   "source": [
    "from sklearn.model_selection import train_test_split\n",
    "from sklearn.linear_model import RidgeClassifier, Ridge\n",
    "\n",
    "from sklearn import preprocessing\n",
    "from sklearn import utils\n",
    "\n",
    "print(game_result)\n",
    "lab_enc = preprocessing.LabelEncoder()\n",
    "encoded = lab_enc.fit_transform(game_result)\n",
    "\n",
    "trainX, testX, trainY, testY = train_test_split(\n",
    "    game_data, encoded, test_size=.33)\n",
    "model = RidgeClassifier()\n",
    "model.fit(trainX, trainY)\n",
    "\n",
    "print(model.score(trainX, trainY))\n",
    "print(model.score(testX, testY))\n",
    "print()\n",
    "\n",
    "# np.savetxt(\"aggr_data.csv\", data_aggr)\n"
   ],
   "metadata": {
    "collapsed": false,
    "pycharm": {
     "name": "#%%\n"
    }
   }
  },
  {
   "cell_type": "code",
   "execution_count": 91,
   "outputs": [
    {
     "name": "stdout",
     "output_type": "stream",
     "text": [
      "0.5266657315191472\n",
      "[1 0 0 ... 1 1 0]\n"
     ]
    },
    {
     "name": "stderr",
     "output_type": "stream",
     "text": [
      "c:\\users\\duncan\\pycharmprojects\\leaguepredict\\venv\\lib\\site-packages\\sklearn\\linear_model\\_logistic.py:765: ConvergenceWarning: lbfgs failed to converge (status=1):\n",
      "STOP: TOTAL NO. of ITERATIONS REACHED LIMIT.\n",
      "\n",
      "Increase the number of iterations (max_iter) or scale the data as shown in:\n",
      "    https://scikit-learn.org/stable/modules/preprocessing.html\n",
      "Please also refer to the documentation for alternative solver options:\n",
      "    https://scikit-learn.org/stable/modules/linear_model.html#logistic-regression\n",
      "  extra_warning_msg=_LOGISTIC_SOLVER_CONVERGENCE_MSG)\n"
     ]
    },
    {
     "name": "stdout",
     "output_type": "stream",
     "text": [
      "0.6049744577506071\n",
      "0.5976366573153107\n"
     ]
    }
   ],
   "source": [
    "from sklearn.model_selection import train_test_split\n",
    "from sklearn import linear_model\n",
    "\n",
    "from sklearn import preprocessing\n",
    "from sklearn import utils\n",
    "\n",
    "print(game_result.mean())\n",
    "lab_enc = preprocessing.LabelEncoder()\n",
    "encoded = lab_enc.fit_transform(game_result)\n",
    "print(encoded)\n",
    "trainX, testX, trainY, testY = train_test_split(\n",
    "    game_data, encoded, test_size=.33)\n",
    "model = linear_model.LogisticRegression(fit_intercept=False, multi_class=\"ovr\")\n",
    "model.fit(trainX, trainY)\n",
    "\n",
    "print(model.score(trainX, trainY))\n",
    "print(model.score(testX, testY))\n",
    "\n",
    "\n",
    "# np.savetxt(\"aggr_data.csv\", data_aggr)"
   ],
   "metadata": {
    "collapsed": false,
    "pycharm": {
     "name": "#%%\n"
    }
   }
  },
  {
   "cell_type": "code",
   "execution_count": 25,
   "outputs": [
    {
     "data": {
      "text/plain": "<Figure size 432x288 with 1 Axes>",
      "image/png": "[encoded data removed]"
     },
     "metadata": {
      "needs_background": "light"
     },
     "output_type": "display_data"
    }
   ],
   "source": [
    "import matplotlib.pyplot as plt\n",
    "\n",
    "iterable = sorted(zip(abs(model.coef_[0]), model.coef_[0], trainX.columns.values), key=lambda x: x[0])\n",
    "sdata = np.array([a for a in reversed(iterable)])\n",
    "\n",
    "x = sdata[:, 2]\n",
    "y = sdata[:, 1].astype(float)\n",
    "\n",
    "plt.bar(x[:10], y[:10])\n",
    "plt.xticks(rotation=90)\n",
    "plt.show()"
   ],
   "metadata": {
    "collapsed": false,
    "pycharm": {
     "name": "#%%\n"
    }
   }
  },
  {
   "cell_type": "code",
   "execution_count": 26,
   "outputs": [],
   "source": [
    "import os\n",
    "import torch\n",
    "import torch.nn as nn\n",
    "\n",
    "from torch.utils.data import TensorDataset, DataLoader\n",
    "\n",
    "\n",
    "def create_dataset(input_data):\n",
    "    #random.shuffle(input_data)\n",
    "\n",
    "    target = torch.tensor(game_result, dtype=torch.long)\n",
    "    #print(input_data[0,:])\n",
    "    input_data = torch.tensor(input_data.values.astype(np.float32))\n",
    "    # input_data = torch.tensor(input_data, dtype=torch.float32)\n",
    "    #target = torch.tensor(input_data, dtype=torch.long)\n",
    "\n",
    "    dataset = TensorDataset(input_data, target)\n",
    "\n",
    "    # Compute batch sizes\n",
    "    size = len(input_data)\n",
    "    p1 = int(size * .8)\n",
    "    p2 = int(size * .1)\n",
    "    p3 = size - p1 - p2\n",
    "\n",
    "    train, validation, test = torch.utils.data.random_split(dataset, (p1, p2, p3))\n",
    "\n",
    "    tra_loader = DataLoader(train, batch_size=64, shuffle=True)\n",
    "    val_loader = DataLoader(validation, batch_size=128)\n",
    "    tes_loader = DataLoader(test, batch_size=128)\n",
    "\n",
    "    return tra_loader, val_loader, tes_loader"
   ],
   "metadata": {
    "collapsed": false,
    "pycharm": {
     "name": "#%%\n"
    }
   }
  },
  {
   "cell_type": "code",
   "execution_count": 27,
   "outputs": [],
   "source": [
    "import os\n",
    "import torch\n",
    "import torch.nn as nn\n",
    "\n",
    "from torch.utils.data import TensorDataset, DataLoader\n",
    "\n",
    "\n",
    "class TestNetwork(nn.Module):\n",
    "    def __init__(self, input_size, output_size):\n",
    "        super().__init__()\n",
    "\n",
    "        self.seq = nn.Sequential(nn.Linear(input_size, 128),\n",
    "                                 # nn.BatchNorm1d(64),\n",
    "                                 # nn.ReLU(),\n",
    "                                 # nn.Dropout(0.5),\n",
    "                                 nn.Linear(128, 64),\n",
    "                                 # nn.BatchNorm1d(32),\n",
    "                                 # nn.ReLU(),\n",
    "                                 # nn.Dropout(0.5),\n",
    "                                 nn.Linear(64, 32),\n",
    "                                 nn.Linear(32, 16),\n",
    "                                 # nn.BatchNorm1d(16),\n",
    "                                 # nn.ReLU(),\n",
    "                                 nn.Linear(16, output_size))\n",
    "\n",
    "        def weight_init(m):\n",
    "            if isinstance(m, nn.Linear):\n",
    "                nn.init.xavier_uniform_(m.weight, gain=nn.init.calculate_gain('relu'))\n",
    "                if m.bias is not None:\n",
    "                    nn.init.zeros_(m.bias)\n",
    "\n",
    "        self.seq.apply(weight_init)\n",
    "\n",
    "    def forward(self, x):\n",
    "        out = self.seq(x)\n",
    "        return out\n",
    "\n",
    "\n",
    "def training(train: DataLoader, validation: DataLoader):\n",
    "    epochs = 150\n",
    "\n",
    "    model = TestNetwork(game_data.shape[1], 2).float()\n",
    "    optimizer = torch.optim.AdamW(model.parameters(), lr=0.001)\n",
    "    criterion = nn.CrossEntropyLoss()\n",
    "\n",
    "    # model.train()\n",
    "    for e in range(epochs):\n",
    "        val_loss = []\n",
    "        val_acc = []\n",
    "        model.train()\n",
    "        for i, (inputs, target) in enumerate(train):\n",
    "            inputs, target = inputs.to(\"cpu\"), target.to(\"cpu\")\n",
    "            optimizer.zero_grad()\n",
    "            pred_target = model(inputs)\n",
    "            #pred_target = (pred_target > 0.5).float()\n",
    "            loss = criterion(pred_target, target.flatten())\n",
    "            loss.backward()\n",
    "\n",
    "            val_loss.append(loss.item())\n",
    "\n",
    "            pred_target = pred_target.detach()\n",
    "            _, pred_target = torch.max(pred_target, dim=1)\n",
    "            correct = (pred_target == target.flatten()).sum().item()\n",
    "            acc = correct / len(target)\n",
    "            val_acc.append(acc)\n",
    "\n",
    "            optimizer.step()\n",
    "            #torch.nn.utils.clip_grad_norm_(model.parameters(), 0.1)\n",
    "\n",
    "        # print(\"TRAIN LOSS\", np.mean(val_loss))\n",
    "        # print(\"TRAIN ACC\", np.mean(val_acc))\n",
    "\n",
    "        val_loss = []\n",
    "        val_acc = []\n",
    "        with torch.no_grad():\n",
    "            model.eval()\n",
    "            for i, (input, target) in enumerate(validation):\n",
    "                input, target = input.to(\"cpu\"), target.to(\"cpu\")\n",
    "                pred_target = model(input)\n",
    "\n",
    "                loss = criterion(pred_target, target.flatten().long())\n",
    "\n",
    "                #pred_target = pred_target[pred_target > 0.5]\n",
    "\n",
    "                _, pred_target = torch.max(pred_target, dim=1)\n",
    "                correct = (pred_target == target.flatten()).sum().item()\n",
    "                acc = correct / len(target)\n",
    "\n",
    "                val_loss.append(loss.item())\n",
    "                val_acc.append(acc)\n",
    "        print('val acc', np.mean(val_acc))\n",
    "\n",
    "    return model\n",
    "\n",
    "\n",
    "def testing(model, test: DataLoader):\n",
    "    acc_list = []\n",
    "    model.eval()\n",
    "    with torch.no_grad():\n",
    "        for i, (input, target) in enumerate(test):\n",
    "            input, target = input.to(\"cpu\"), target.to(\"cpu\")\n",
    "            pred_target = model(input)\n",
    "\n",
    "            _, pred_target = torch.max(pred_target, dim=1)\n",
    "            correct = (pred_target == target.flatten()).sum().item()\n",
    "            acc = correct / len(target)\n",
    "            acc_list.append(acc)\n",
    "    print('test acc', np.mean(acc_list))\n"
   ],
   "metadata": {
    "collapsed": false,
    "pycharm": {
     "name": "#%%\n"
    }
   }
  },
  {
   "cell_type": "code",
   "execution_count": 28,
   "outputs": [
    {
     "name": "stdout",
     "output_type": "stream",
     "text": [
      "val acc 0.5073371362433863\n",
      "val acc 0.48407531415343913\n",
      "val acc 0.5189525462962963\n",
      "val acc 0.5339161706349207\n",
      "val acc 0.4783916170634921\n",
      "val acc 0.4949570105820106\n",
      "val acc 0.5438264715608466\n",
      "val acc 0.5694961144179894\n",
      "val acc 0.5577153604497355\n",
      "val acc 0.49447131283068785\n",
      "val acc 0.5500992063492064\n",
      "val acc 0.5500475363756614\n",
      "val acc 0.5243572255291006\n",
      "val acc 0.5346602182539683\n",
      "val acc 0.531229332010582\n",
      "val acc 0.5238405257936508\n",
      "val acc 0.5225487764550264\n",
      "val acc 0.5328000992063492\n",
      "val acc 0.5291211970899471\n",
      "val acc 0.49654844576719576\n",
      "val acc 0.5545118220899471\n",
      "val acc 0.503957919973545\n",
      "val acc 0.537140376984127\n",
      "val acc 0.5036065641534392\n",
      "val acc 0.5056320271164021\n",
      "val acc 0.5147672784391534\n",
      "val acc 0.5012194113756614\n",
      "val acc 0.5520316633597884\n",
      "val acc 0.5600198412698413\n",
      "val acc 0.5356109457671957\n",
      "val acc 0.5457589285714286\n",
      "val acc 0.5050533234126984\n",
      "val acc 0.5786416997354497\n",
      "val acc 0.6022032076719576\n",
      "val acc 0.5669126157407407\n",
      "val acc 0.5103546626984127\n",
      "val acc 0.5206783234126984\n",
      "val acc 0.5572296626984127\n",
      "val acc 0.58408771494709\n",
      "val acc 0.5877666170634921\n",
      "val acc 0.5689174107142857\n",
      "val acc 0.6063368055555556\n",
      "val acc 0.5946903935185185\n",
      "val acc 0.5709738756613757\n",
      "val acc 0.5523313492063492\n",
      "val acc 0.47375165343915343\n",
      "val acc 0.4728629298941799\n",
      "val acc 0.560526207010582\n",
      "val acc 0.5728029927248678\n",
      "val acc 0.6195333167989417\n",
      "val acc 0.5768642526455026\n",
      "val acc 0.6058821097883598\n",
      "val acc 0.6104497354497355\n",
      "val acc 0.4855944113756614\n",
      "val acc 0.5723999669312169\n",
      "val acc 0.6046110284391535\n",
      "val acc 0.6105427414021164\n",
      "val acc 0.6116588128306878\n",
      "val acc 0.5416976686507936\n",
      "val acc 0.588055968915344\n",
      "val acc 0.6210730820105821\n",
      "val acc 0.529317542989418\n",
      "val acc 0.6148933531746031\n",
      "val acc 0.581989914021164\n",
      "val acc 0.630818039021164\n",
      "val acc 0.6165157903439153\n",
      "val acc 0.6199156746031746\n",
      "val acc 0.5579943783068783\n",
      "val acc 0.6170634920634921\n",
      "val acc 0.6220858134920635\n",
      "val acc 0.591858878968254\n",
      "val acc 0.5881179728835979\n",
      "val acc 0.6031952711640212\n",
      "val acc 0.5322627314814815\n",
      "val acc 0.6282552083333333\n",
      "val acc 0.6019758597883598\n",
      "val acc 0.6295469576719576\n",
      "val acc 0.5658792162698413\n",
      "val acc 0.5942356977513228\n",
      "val acc 0.628968253968254\n",
      "val acc 0.6356853505291005\n",
      "val acc 0.6187169312169312\n",
      "val acc 0.599764384920635\n",
      "val acc 0.5995887070105821\n",
      "val acc 0.6169394841269842\n",
      "val acc 0.6128782242063492\n",
      "val acc 0.642464451058201\n",
      "val acc 0.6283378802910053\n",
      "val acc 0.6217654596560847\n",
      "val acc 0.6315310846560847\n",
      "val acc 0.6337632275132276\n",
      "val acc 0.578176669973545\n",
      "val acc 0.5643084490740741\n",
      "val acc 0.6390128968253969\n",
      "val acc 0.6448206018518519\n",
      "val acc 0.634724289021164\n",
      "val acc 0.6410900297619048\n",
      "val acc 0.6417514054232804\n",
      "val acc 0.60536541005291\n",
      "val acc 0.642516121031746\n",
      "val acc 0.6435288525132276\n",
      "val acc 0.6332258597883598\n",
      "val acc 0.6422371031746031\n",
      "val acc 0.5989583333333333\n",
      "val acc 0.642361111111111\n",
      "val acc 0.6380518353174603\n",
      "val acc 0.6399222883597883\n",
      "val acc 0.6255477017195767\n",
      "val acc 0.6416997354497355\n",
      "val acc 0.6330708498677249\n",
      "val acc 0.60947833994709\n",
      "val acc 0.6270357969576719\n",
      "val acc 0.6420820932539683\n",
      "val acc 0.6410176917989417\n",
      "val acc 0.640583664021164\n",
      "val acc 0.6125578703703703\n",
      "val acc 0.6181898974867724\n",
      "val acc 0.5936053240740741\n",
      "val acc 0.6331225198412699\n",
      "val acc 0.6433015046296297\n",
      "val acc 0.6375868055555556\n",
      "val acc 0.617125496031746\n",
      "val acc 0.6434771825396826\n",
      "val acc 0.6429191468253969\n",
      "val acc 0.6275008267195767\n",
      "val acc 0.6406043320105821\n",
      "val acc 0.6479414682539683\n",
      "val acc 0.5825169477513228\n",
      "val acc 0.6362537202380952\n",
      "val acc 0.6364810681216931\n",
      "val acc 0.5418630125661376\n",
      "val acc 0.6305596891534392\n",
      "val acc 0.6359747023809524\n",
      "val acc 0.61533771494709\n",
      "val acc 0.5502335482804233\n",
      "val acc 0.6443865740740741\n",
      "val acc 0.6322958002645503\n",
      "val acc 0.6454819775132276\n",
      "val acc 0.6367497519841271\n",
      "val acc 0.6263330853174603\n",
      "val acc 0.644644923941799\n",
      "val acc 0.5903087797619048\n",
      "val acc 0.628844246031746\n",
      "val acc 0.646474041005291\n",
      "val acc 0.6334015376984128\n",
      "val acc 0.6492125496031746\n",
      "val acc 0.6370287698412699\n",
      "val acc 0.5685970568783069\n",
      "val acc 0.6386512070105821\n",
      "val acc 0.6362020502645503\n",
      "test acc 0.6321162352555701\n"
     ]
    }
   ],
   "source": [
    "train, validate, test = create_dataset(game_data)\n",
    "model = training(train, validate)\n",
    "testing(model, test)"
   ],
   "metadata": {
    "collapsed": false,
    "pycharm": {
     "name": "#%%\n"
    }
   }
  },
  {
   "cell_type": "code",
   "execution_count": 131,
   "outputs": [
    {
     "name": "stdout",
     "output_type": "stream",
     "text": [
      "[1]\n",
      "0.5494207857179919 (1.8200985947285995, 2.219365581684647)\n",
      "[0]\n",
      "0.30740103867234964 (3.2530794440999684, 1.4438369905768977)\n",
      "[1]\n",
      "0.6706877839195964 (1.4910067306666233, 3.0366319594893008)\n",
      "[1]\n",
      "0.5264833779928211 (1.8993951980258637, 2.1118582823156715)\n",
      "[1]\n",
      "0.5804041481216335 (1.722937376027218, 2.3832456768182793)\n",
      "[0]\n",
      "0.4370175944372089 (2.288237390734347, 1.776254444400158)\n",
      "[0]\n",
      "0.36907766100854666 (2.7094568586659684, 1.5849811271519207)\n",
      "[0]\n",
      "0.4980514811903187 (2.007824567874086, 1.9922361806573232)\n",
      "[1]\n",
      "0.6459249028240943 (1.5481675898046796, 2.8242596216903575)\n",
      "[1]\n",
      "0.6134419733362927 (1.6301460341250464, 2.5869337357466566)\n"
     ]
    }
   ],
   "source": [
    "def get_team(team_name):\n",
    "    teams = data.team.unique().astype(str).flatten()\n",
    "    if team_name in teams:\n",
    "        return team_name\n",
    "    matches = np.char.find(teams, team_name)\n",
    "    selection = teams[matches >= 0]\n",
    "    if len(selection) == 0:\n",
    "        print(\"No teams found with that name.\")\n",
    "        return None\n",
    "    if len(selection) > 1:\n",
    "        print(\"Multiple teams found: %s\" % \", \".join(selection))\n",
    "        return None\n",
    "    return selection[0]\n",
    "\n",
    "\n",
    "def get_something(all_data, blue_team=\"Fnatic\", red_team=\"Rogue\"):\n",
    "    blue_team = get_team(blue_team)\n",
    "    red_team = get_team(red_team)\n",
    "    if blue_team is None or red_team is None:\n",
    "        return\n",
    "\n",
    "    aggregation = None\n",
    "    for team in [blue_team, red_team]:\n",
    "        players = all_data.query(f\"team=='{team}'\").filter([\"player\"]).head(5)\n",
    "\n",
    "        for player in players.player.values:\n",
    "            new_player_data = (\n",
    "                all_data\n",
    "                    .filter(player_columns)\n",
    "                    .query(f\"player == '{player}'\")\n",
    "                    .head(3)\n",
    "                    .mean(axis=0)\n",
    "                    .to_frame()\n",
    "                    .transpose()\n",
    "            )\n",
    "\n",
    "            if aggregation is None:\n",
    "                aggregation = new_player_data\n",
    "            else:\n",
    "                aggregation = aggregation.append(new_player_data, ignore_index=True)\n",
    "\n",
    "    aggregation = aggregation.reindex(sorted(aggregation.columns), axis=1)\n",
    "    aggregation = concat_rows(aggregation, 10)\n",
    "    blue_team_data = (\n",
    "        all_data\n",
    "            .query(\"playerid > 10\")\n",
    "            .query(f\"team=='{blue_team}'\")\n",
    "            .filter(team_columns)\n",
    "            .head(3)\n",
    "            .rolling(3, on=\"actual_result\")\n",
    "            .mean()\n",
    "            .tail(1)\n",
    "    )\n",
    "    red_team_data = (\n",
    "        all_data\n",
    "            .query(\"playerid > 10\")\n",
    "            .query(f\"team=='{red_team}'\")\n",
    "            .filter(team_columns)\n",
    "            .head(3)\n",
    "            .rolling(3, on=\"actual_result\")\n",
    "            .mean()\n",
    "            .tail(1)\n",
    "    )\n",
    "    new_team_data = blue_team_data.append(red_team_data, ignore_index=True)\n",
    "    new_team_data = concat_rows(new_team_data, 2)\n",
    "\n",
    "    new_team_data.drop(columns=[\"actual_result2\", \"playerid1\", \"playerid2\"], inplace=True)\n",
    "\n",
    "    new_game_data = (\n",
    "        pandas\n",
    "            .concat([new_team_data, aggregation], axis=1)\n",
    "            .dropna()\n",
    "    )\n",
    "\n",
    "    new_game_data.drop(columns=[\"actual_result1\"], inplace=True)\n",
    "\n",
    "    return new_game_data\n",
    "\n",
    "matchups = [\n",
    "    (\"Schalke 04 Esports\", \"Excel Esports\"),\n",
    "    (\"Team Vitality\", \"Misfits Gaming\"),\n",
    "    (\"MAD Lions\", \"Astralis\"),\n",
    "    (\"G2 Esports\", \"SK Gaming\"),\n",
    "    (\"Fnatic\", \"Rogue\"),\n",
    "    (\"Astralis\", \"Schalke 04 Esports\"),\n",
    "    (\"Excel Esports\", \"Team Vitality\"),\n",
    "    (\"Rogue\", \"MAD Lions\"),\n",
    "    (\"Fnatic\", \"SK Gaming\"),\n",
    "    (\"Misfits Gaming\", \"G2 Esports\"),\n",
    "]\n",
    "\n",
    "for blue_team, red_team in matchups:\n",
    "\n",
    "    X = get_something(data, blue_team, red_team)\n",
    "    if X is not None:\n",
    "        print(model.predict(X))\n",
    "        prob = (model.decision_function(X)[0] + 1) / 2\n",
    "        odds = (1 / prob, 1 / (1 - prob))\n",
    "        print(prob, odds)\n",
    "\n"
   ],
   "metadata": {
    "collapsed": false,
    "pycharm": {
     "name": "#%%\n"
    }
   }
  },
  {
   "cell_type": "code",
   "execution_count": null,
   "outputs": [],
   "source": [],
   "metadata": {
    "collapsed": false,
    "pycharm": {
     "name": "#%%\n"
    }
   }
  }
 ],
 "metadata": {
  "kernelspec": {
   "display_name": "Python 3",
   "language": "python",
   "name": "python3"
  },
  "language_info": {
   "codemirror_mode": {
    "name": "ipython",
    "version": 2
   },
   "file_extension": ".py",
   "mimetype": "text/x-python",
   "name": "python",
   "nbconvert_exporter": "python",
   "pygments_lexer": "ipython2",
   "version": "2.7.6"
  }
 },
 "nbformat": 4,
 "nbformat_minor": 0
}