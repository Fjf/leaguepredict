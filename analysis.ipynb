{
 "cells": [
  {
   "cell_type": "code",
   "execution_count": 1,
   "metadata": {
    "collapsed": true
   },
   "outputs": [],
   "source": [
    "import numpy as np\n",
    "import pandas\n",
    "from pandas.core.window.indexers import BaseIndexer\n"
   ]
  },
  {
   "cell_type": "code",
   "execution_count": 2,
   "outputs": [],
   "source": [
    "\n",
    "class CustomIndexer(BaseIndexer):\n",
    "    def get_window_bounds(self, num_values=0, min_periods=None, center=None, closed=None):\n",
    "        end = np.arange(0, num_values, dtype=\"int64\")\n",
    "        end += 4\n",
    "        start = end - 3\n",
    "\n",
    "        end = np.clip(end, 0, num_values)\n",
    "        start = np.clip(start, 0, num_values)\n",
    "\n",
    "        return start, end\n",
    "\n",
    "\n",
    "def concat_rows(df, n):\n",
    "    new_cols = [\n",
    "        f\"{col}{idx}\"\n",
    "        for idx in range(1, n + 1)\n",
    "        for col in df.columns\n",
    "    ]\n",
    "    n_cols = len(df.columns)\n",
    "    new_df = pandas.DataFrame(\n",
    "        df.values.reshape([-1, n_cols * n]),\n",
    "        columns=new_cols\n",
    "    )\n",
    "    return new_df"
   ],
   "metadata": {
    "collapsed": false,
    "pycharm": {
     "name": "#%%\n"
    }
   }
  },
  {
   "cell_type": "code",
   "execution_count": 3,
   "outputs": [],
   "source": [
    "filename = \"data/2021_LoL_esports_match_data_from_OraclesElixir_20210515.csv\"\n",
    "\n",
    "data = pandas.read_csv(filename)"
   ],
   "metadata": {
    "collapsed": false,
    "pycharm": {
     "name": "#%%\n"
    }
   }
  },
  {
   "cell_type": "code",
   "execution_count": 4,
   "outputs": [],
   "source": [
    "team_columns = [\"date\", \"actual_result\", \"playerid\", \"gameid\", \"team\", \"gamelength\", \"result\", \"dragons\", \"barons\",\n",
    "                \"riftheralds\", \"towers\"]\n",
    "player_columns = [\"date\", \"player\", \"gameid\", \"kills\", \"deaths\", \"assists\", \"dpm\", \"damageshare\",\n",
    "                  \"damagetakenperminute\", \"wpm\",\n",
    "                  \"vspm\", \"earned gpm\", \"cspm\", \"csat10\", \"goldat10\", \"killsat10\", \"deathsat10\", \"assistsat10\",\n",
    "                  \"csat15\", \"goldat15\", \"killsat15\", \"deathsat15\", \"assistsat15\"]\n"
   ],
   "metadata": {
    "collapsed": false,
    "pycharm": {
     "name": "#%%\n"
    }
   }
  },
  {
   "cell_type": "code",
   "execution_count": 5,
   "outputs": [],
   "source": [
    "data = data.sort_values(by=[\"date\", \"team\"])\n",
    "data = data.reset_index(drop=True)\n",
    "data[\"actual_result\"] = data[\"result\"]"
   ],
   "metadata": {
    "collapsed": false,
    "pycharm": {
     "name": "#%%\n"
    }
   }
  },
  {
   "cell_type": "code",
   "execution_count": 6,
   "outputs": [],
   "source": [
    "\n",
    "\n",
    "indexer = CustomIndexer(window_size=1)\n",
    "\n",
    "player_data = (\n",
    "    data\n",
    "        .filter(player_columns)\n",
    "        .groupby(pandas.Grouper(key=\"player\"))\n",
    "        .rolling(window=indexer, min_periods=1, on=\"gameid\")\n",
    "        .mean()\n",
    "        .reset_index()\n",
    "        .rename(columns={\"level_1\": \"id\"})\n",
    "        .sort_values(by=\"id\")\n",
    "        .reset_index()\n",
    "        .drop(columns=[\"index\", \"player\", \"id\", \"gameid\"])\n",
    ")\n",
    "\n"
   ],
   "metadata": {
    "collapsed": false,
    "pycharm": {
     "name": "#%%\n"
    }
   }
  },
  {
   "cell_type": "code",
   "execution_count": 7,
   "outputs": [],
   "source": [
    "team_data = (\n",
    "    data\n",
    "        .query(\"playerid > 10\")\n",
    "        .filter(team_columns)\n",
    "        .groupby(pandas.Grouper(key=\"team\"))\n",
    "        .rolling(window=indexer, min_periods=1, on=\"actual_result\")\n",
    "        .mean()\n",
    "        .reset_index()\n",
    "        .rename(columns={\"level_1\": \"id\"})\n",
    "        .sort_values(by=\"id\")\n",
    "        .reset_index()\n",
    "        .drop(columns=[\"index\", \"playerid\", \"id\"])\n",
    ")"
   ],
   "metadata": {
    "collapsed": false,
    "pycharm": {
     "name": "#%%\n"
    }
   }
  },
  {
   "cell_type": "code",
   "execution_count": 17,
   "outputs": [],
   "source": [
    "game_data_player = concat_rows(player_data, 10)\n",
    "game_data_team = concat_rows(team_data, 2)\n",
    "game_data_team.drop(columns=[\"actual_result2\", \"team1\", \"team2\"], inplace=True)\n",
    "\n",
    "game_data = (\n",
    "    pandas\n",
    "        .concat([game_data_team, game_data_player], axis=1)\n",
    "        .dropna()\n",
    ")\n",
    "\n",
    "\n",
    "game_result = game_data[\"actual_result1\"]\n",
    "game_data.drop(columns=[\"actual_result1\"], inplace=True)\n"
   ],
   "metadata": {
    "collapsed": false,
    "pycharm": {
     "name": "#%%\n"
    }
   }
  },
  {
   "cell_type": "code",
   "execution_count": 14,
   "outputs": [
    {
     "data": {
      "text/plain": "694"
     },
     "execution_count": 14,
     "metadata": {},
     "output_type": "execute_result"
    }
   ],
   "source": [
    "from sklearn.model_selection import train_test_split\n",
    "\n",
    "trainX, textX, trainY, testY = train_test_split(\n",
    "    game_data, game_result, test_size=.33)\n",
    "\n",
    "\n",
    "\n",
    "# np.savetxt(\"aggr_data.csv\", data_aggr)"
   ],
   "metadata": {
    "collapsed": false,
    "pycharm": {
     "name": "#%%\n"
    }
   }
  }
 ],
 "metadata": {
  "kernelspec": {
   "display_name": "Python 3",
   "language": "python",
   "name": "python3"
  },
  "language_info": {
   "codemirror_mode": {
    "name": "ipython",
    "version": 2
   },
   "file_extension": ".py",
   "mimetype": "text/x-python",
   "name": "python",
   "nbconvert_exporter": "python",
   "pygments_lexer": "ipython2",
   "version": "2.7.6"
  }
 },
 "nbformat": 4,
 "nbformat_minor": 0
}